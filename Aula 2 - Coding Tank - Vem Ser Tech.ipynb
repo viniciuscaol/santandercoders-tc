{
 "cells": [
  {
   "cell_type": "markdown",
   "id": "bd275093",
   "metadata": {},
   "source": [
    "<div style=\"background-color: lightgreen; padding: 18px; color: black;\">\n",
    "    <h1> Coding Tank | Vem Ser Tech \n",
    "</div>"
   ]
  },
  {
   "cell_type": "markdown",
   "id": "cf23d9e5",
   "metadata": {},
   "source": [
    "<div style=\"background-color: lightblue; padding: 10px; color: black;\">\n",
    "    <h2> Tópicos da aula - AULA 2\n",
    "</div>\n",
    "\n",
    "- Operador lógico\n",
    "- Estrutura condicional e controle de fluxo\n",
    "- Comando if\n",
    "- Comando else\n",
    "- Comando elif\n",
    "- Funções de string (introdutório) - opcional\n",
    "\n"
   ]
  },
  {
   "cell_type": "markdown",
   "id": "643dc92b",
   "metadata": {},
   "source": [
    "Imagine que o critério de aprovação em uma escola seja a média superior a 7.0 e presença superior a 75%. Neste caso, o aluno precisa atender a ambos os critérios para ser aprovado. Se ele tirou uma ótima nota, mas faltou demais, será reprovado. Se ele compareceu a todas as aulas, mas teve notas baixas, idem.\n"
   ]
  },
  {
   "cell_type": "code",
   "execution_count": 38,
   "id": "61e3c9c8",
   "metadata": {},
   "outputs": [
    {
     "ename": "ValueError",
     "evalue": "could not convert string to float: ''",
     "output_type": "error",
     "traceback": [
      "\u001b[1;31m---------------------------------------------------------------------------\u001b[0m",
      "\u001b[1;31mValueError\u001b[0m                                Traceback (most recent call last)",
      "Cell \u001b[1;32mIn[38], line 1\u001b[0m\n\u001b[1;32m----> 1\u001b[0m n1 \u001b[38;5;241m=\u001b[39m \u001b[38;5;28;43mfloat\u001b[39;49m\u001b[43m(\u001b[49m\u001b[38;5;28;43minput\u001b[39;49m\u001b[43m(\u001b[49m\u001b[38;5;124;43m\"\u001b[39;49m\u001b[38;5;124;43mdigite sua nota 1\u001b[39;49m\u001b[38;5;124;43m\"\u001b[39;49m\u001b[43m)\u001b[49m\u001b[43m)\u001b[49m\n\u001b[0;32m      2\u001b[0m n2 \u001b[38;5;241m=\u001b[39m \u001b[38;5;28mfloat\u001b[39m(\u001b[38;5;28minput\u001b[39m(\u001b[38;5;124m\"\u001b[39m\u001b[38;5;124mdigite sua nota 2\u001b[39m\u001b[38;5;124m\"\u001b[39m))\n\u001b[0;32m      3\u001b[0m n3 \u001b[38;5;241m=\u001b[39m \u001b[38;5;28mfloat\u001b[39m(\u001b[38;5;28minput\u001b[39m(\u001b[38;5;124m\"\u001b[39m\u001b[38;5;124mdigite sua nota 3\u001b[39m\u001b[38;5;124m\"\u001b[39m))\n",
      "\u001b[1;31mValueError\u001b[0m: could not convert string to float: ''"
     ]
    }
   ],
   "source": [
    "n1 = float(input(\"digite sua nota 1\"))\n",
    "n2 = float(input(\"digite sua nota 2\"))\n",
    "n3 = float(input(\"digite sua nota 3\"))\n",
    "n4 = float(input(\"digite sua nota 4\"))\n",
    "media = (n1 + n2 + n3 + n4) / 4\n",
    "\n",
    "aprov = 7.0\n",
    "\n",
    "resultado_nota = media >= aprov\n",
    "\n",
    "presenca = float(input(\"digite sua presença [0% - 100%]:\"))\n",
    "\n",
    "presenca_minima = 75\n",
    "\n",
    "resultado_presenca = presenca >= presenca_minima\n"
   ]
  },
  {
   "cell_type": "code",
   "execution_count": null,
   "id": "8678eb04",
   "metadata": {},
   "outputs": [
    {
     "data": {
      "text/plain": [
       "False"
      ]
     },
     "execution_count": 5,
     "metadata": {},
     "output_type": "execute_result"
    }
   ],
   "source": [
    "resultado_nota"
   ]
  },
  {
   "cell_type": "code",
   "execution_count": null,
   "id": "0f18f457",
   "metadata": {},
   "outputs": [
    {
     "data": {
      "text/plain": [
       "True"
      ]
     },
     "execution_count": 6,
     "metadata": {},
     "output_type": "execute_result"
    }
   ],
   "source": [
    "resultado_presenca"
   ]
  },
  {
   "cell_type": "code",
   "execution_count": null,
   "id": "9d5f5e92",
   "metadata": {},
   "outputs": [
    {
     "data": {
      "text/plain": [
       "False"
      ]
     },
     "execution_count": 7,
     "metadata": {},
     "output_type": "execute_result"
    }
   ],
   "source": [
    "resultado_presenca == resultado_nota"
   ]
  },
  {
   "cell_type": "code",
   "execution_count": null,
   "id": "ce0e7146",
   "metadata": {},
   "outputs": [
    {
     "data": {
      "text/plain": [
       "True"
      ]
     },
     "execution_count": 8,
     "metadata": {},
     "output_type": "execute_result"
    }
   ],
   "source": [
    "False == False"
   ]
  },
  {
   "cell_type": "code",
   "execution_count": null,
   "id": "0b29eebe",
   "metadata": {},
   "outputs": [],
   "source": [
    "nota = float(input(\"informe a nota: \"))\n",
    "presenca = float(input(\"informe a presenca: \"))\n",
    "aprovado_nota = (nota >= 7)\n",
    "aprovado_presenca = (presenca >= 75)\n",
    "\n",
    "string_aprovado = f\"{aprovado_nota}|{aprovado_nota}\"\n",
    "aprovado = string_aprovado == \"True|True\"\n",
    "\n",
    "print(\"Aprovado? \",aprovado)"
   ]
  },
  {
   "cell_type": "markdown",
   "id": "3b8a9808",
   "metadata": {},
   "source": [
    "**Operadores lógicos**\n",
    "\n",
    "|     Operador    |                            Definição                           |     Operação    |\n",
    "|:---------------:|:--------------------------------------------------------------:|:---------------:|\n",
    "|        and      |     Retorna   True se ambas as afirmações forem verdadeiras    |         e       |\n",
    "|        or       |       Retorna   True se uma das afirmações for verdadeira      |        ou       |\n",
    "|        not      |          retorna   Falso se o resultado for verdadeiro         |        não      |\n",
    "\n",
    "\n",
    "**AND** é uma conjunção lógica e o **OR** é uma disjunção lógica. O **not** é a negação lógica.\n",
    "\n",
    "| *A*   | *B*   | *A and B* | *A or B* | *not A* |\n",
    "|-------|-------|-----------|----------|---------|\n",
    "| False | False | False     | False    | True    |\n",
    "| False | True  | False     | True     | True    |\n",
    "| True  | False | False     | True     | False   |\n",
    "| True  | True  | True      | True     | False   |\n",
    "\n",
    "\n",
    "Será que conseguimos escrever o problema acima de uma forma mais fácil?"
   ]
  },
  {
   "cell_type": "code",
   "execution_count": null,
   "id": "454b13e7",
   "metadata": {},
   "outputs": [
    {
     "data": {
      "text/plain": [
       "False"
      ]
     },
     "execution_count": 11,
     "metadata": {},
     "output_type": "execute_result"
    }
   ],
   "source": [
    "n1 = float(input(\"digite sua nota 1\"))\n",
    "n2 = float(input(\"digite sua nota 2\"))\n",
    "n3 = float(input(\"digite sua nota 3\"))\n",
    "n4 = float(input(\"digite sua nota 4\"))\n",
    "media = (n1 + n2 + n3 + n4) / 4\n",
    "\n",
    "aprov = 7.0\n",
    "\n",
    "resultado_nota = media >= aprov\n",
    "\n",
    "presenca = float(input(\"digite sua presença [0% - 100%]:\"))\n",
    "\n",
    "presenca_minima = 75\n",
    "\n",
    "resultado_presenca = presenca >= presenca_minima\n",
    "\n",
    "resultado_nota and resultado_presenca"
   ]
  },
  {
   "cell_type": "markdown",
   "id": "63dc2e1c",
   "metadata": {},
   "source": [
    "\n",
    "## Estrutura condicional\n",
    "\n",
    "- if\n",
    "\n",
    "Obs.: Python é uma linguagem indentada"
   ]
  },
  {
   "cell_type": "code",
   "execution_count": null,
   "id": "9070e790",
   "metadata": {},
   "outputs": [
    {
     "name": "stdout",
     "output_type": "stream",
     "text": [
      "Aprovado\n",
      "A média é 7.5\n"
     ]
    }
   ],
   "source": [
    "nota1 = float(input('Digite nota 1: '))\n",
    "nota2 = float(input('Digite nota 2: '))\n",
    "\n",
    "media = (nota1 + nota2) / 2\n",
    "\n",
    "if media >= 7 : # comando condicional if\n",
    "    print('Aprovado')\n",
    "    \n",
    "print(f'A média é {media}')"
   ]
  },
  {
   "cell_type": "markdown",
   "id": "21328f19",
   "metadata": {},
   "source": [
    "Está faltando alguma coisa"
   ]
  },
  {
   "cell_type": "code",
   "execution_count": null,
   "id": "7375b6a2",
   "metadata": {},
   "outputs": [
    {
     "name": "stdout",
     "output_type": "stream",
     "text": [
      "Aprovado\n",
      "A média é 7.0\n"
     ]
    }
   ],
   "source": [
    "nota1 = float(input('Digite nota 1: '))\n",
    "nota2 = float(input('Digite nota 2: '))\n",
    "\n",
    "media = (nota1 + nota2) / 2\n",
    "\n",
    "if media >= 7 : \n",
    "    print('Aprovado')\n",
    "\n",
    "if media < 7 : \n",
    "    print('Reprovado')\n",
    "    \n",
    "print(f'A média é {media}')"
   ]
  },
  {
   "cell_type": "markdown",
   "id": "223d6399",
   "metadata": {},
   "source": [
    "- else"
   ]
  },
  {
   "cell_type": "code",
   "execution_count": null,
   "id": "92cef6ca",
   "metadata": {},
   "outputs": [
    {
     "name": "stdout",
     "output_type": "stream",
     "text": [
      "Digite nota 1: 4\n",
      "Digite nota 2: 5\n",
      "Reprovado\n",
      "A média é 4.5\n"
     ]
    }
   ],
   "source": [
    "nota1 = float(input('Digite nota 1: '))\n",
    "nota2 = float(input('Digite nota 2: '))\n",
    "\n",
    "media = (nota1 + nota2) / 2\n",
    "\n",
    "if media >= 7 : \n",
    "    print('Aprovado')\n",
    "else: \n",
    "    print('Reprovado')\n",
    "\n",
    "    \n",
    "print(f'A média é {media}')"
   ]
  },
  {
   "cell_type": "markdown",
   "id": "36c4da02",
   "metadata": {},
   "source": [
    "Vamos acrescentar a presença para a aprovação do aluno"
   ]
  },
  {
   "cell_type": "code",
   "execution_count": null,
   "id": "9f6e731b",
   "metadata": {},
   "outputs": [],
   "source": [
    "n1 = float(input(\"digite sua nota 1\"))\n",
    "n2 = float(input(\"digite sua nota 2\"))\n",
    "n3 = float(input(\"digite sua nota 3\"))\n",
    "n4 = float(input(\"digite sua nota 4\"))\n",
    "media = (n1 + n2 + n3 + n4) / 4\n",
    "\n",
    "aprov = 7.0\n",
    "\n",
    "resultado_nota = media >= aprov\n",
    "\n",
    "presenca = float(input(\"digite sua presença [0% - 100%]:\"))\n",
    "\n",
    "presenca_minima = 75\n",
    "\n",
    "resultado_presenca = presenca >= presenca_minima\n",
    "\n",
    "if resultado_nota and resultado_presenca:\n",
    "    print('Aprovado')\n",
    "else:\n",
    "    print('Reprovado')"
   ]
  },
  {
   "cell_type": "code",
   "execution_count": null,
   "id": "3cfd10f5",
   "metadata": {},
   "outputs": [],
   "source": [
    "n1 = float(input(\"digite sua nota 1\"))\n",
    "n2 = float(input(\"digite sua nota 2\"))\n",
    "n3 = float(input(\"digite sua nota 3\"))\n",
    "n4 = float(input(\"digite sua nota 4\"))\n",
    "presenca = float(input(\"digite sua presença [0% - 100%]:\"))\n",
    "\n",
    "media = (n1 + n2 + n3 + n4) / 4\n",
    "\n",
    "aprov = 7.0\n",
    "presenca_minima = 75\n",
    "\n",
    "if media >= aprov and presenca >= presenca_minima:\n",
    "    print('Aprovado')\n",
    "else:\n",
    "    print('Reprovado')"
   ]
  },
  {
   "cell_type": "markdown",
   "id": "9df03ba0",
   "metadata": {},
   "source": [
    "A estrutura é essa (por enquanto):\n",
    "\n",
    "```python\n",
    "if (condicao): # condição\n",
    "    to do  # só executa se a condição for verdadeira\n",
    "else: \n",
    "    to do\n",
    "```  \n",
    "\n",
    "\n",
    "\n",
    "\n",
    "\n",
    "Vamos incluir a recuperação nesse exemplo (para facilitar, vamos deixar de lado a presença). O aluno tem direito a recuperação se a média é maior que 5.\n",
    "\n",
    "- se media for maior ou igual a 7: aprovado\n",
    "- se a media for maior ou igual a 5 e menor que 7: recuperacao\n",
    "- se a media for menor que 5: reprovado"
   ]
  },
  {
   "cell_type": "code",
   "execution_count": null,
   "id": "334fd649",
   "metadata": {},
   "outputs": [
    {
     "name": "stdout",
     "output_type": "stream",
     "text": [
      "Digite nota 1: 5\n",
      "Digite nota 2: 4\n",
      "Reprovado\n",
      "A média é 4.5\n"
     ]
    }
   ],
   "source": [
    "nota1 = float(input('Digite nota 1: '))\n",
    "nota2 = float(input('Digite nota 2: '))\n",
    "\n",
    "media = (nota1 + nota2) / 2\n",
    "\n",
    "if media >= 7 : \n",
    "    print('Aprovado')\n",
    "if media >= 5 and media < 7: \n",
    "    print('Recuperação')\n",
    "if media < 5:\n",
    "    print('Reprovado')\n",
    "\n",
    "    \n",
    "print(f'A média é {media}')"
   ]
  },
  {
   "cell_type": "markdown",
   "id": "b9e9e46f",
   "metadata": {},
   "source": [
    "- elif"
   ]
  },
  {
   "cell_type": "code",
   "execution_count": null,
   "id": "2d84dbe3",
   "metadata": {},
   "outputs": [
    {
     "name": "stdout",
     "output_type": "stream",
     "text": [
      "Digite nota 1: 8\n",
      "Digite nota 2: 7\n",
      "Aprovado\n",
      "A média é 7.5\n"
     ]
    }
   ],
   "source": [
    "nota1 = float(input('Digite nota 1: '))\n",
    "nota2 = float(input('Digite nota 2: '))\n",
    "\n",
    "media = (nota1 + nota2) / 2\n",
    "\n",
    "if media >= 7 : \n",
    "    print('Aprovado')\n",
    "elif media >= 5: # acrescentamos o else if = elif\n",
    "    print('Recuperação')\n",
    "else: # else nunca tem comparação de uma condição\n",
    "    print('Reprovado')\n",
    "\n",
    "    \n",
    "print(f'A média é {media}')"
   ]
  },
  {
   "cell_type": "code",
   "execution_count": null,
   "id": "d22c248e",
   "metadata": {},
   "outputs": [
    {
     "name": "stdout",
     "output_type": "stream",
     "text": [
      "Digite a média: 4\n",
      "Reprovado\n"
     ]
    }
   ],
   "source": [
    "media = float(input('Digite a média: '))\n",
    "\n",
    "if media >= 7:\n",
    "    print('Aprovado')\n",
    "elif media >= 5:\n",
    "    print('Recuperação')\n",
    "elif media >= 4.5:\n",
    "    print('Quase hein!')\n",
    "else:\n",
    "    print('Reprovado')"
   ]
  },
  {
   "cell_type": "code",
   "execution_count": null,
   "id": "5225a4e0",
   "metadata": {},
   "outputs": [
    {
     "name": "stdout",
     "output_type": "stream",
     "text": [
      "Digite a média: 10\n",
      "Aprovado\n"
     ]
    }
   ],
   "source": [
    "media = float(input('Digite a média: '))\n",
    "\n",
    "if media >= 7:\n",
    "    print('Aprovado')\n",
    "elif media >= 5:\n",
    "    print('Recuperação')\n",
    "elif media >= 4.5:\n",
    "    print('Quase hein!')\n",
    "elif media == 10:\n",
    "    print('Parabéns')\n",
    "else:\n",
    "    print('Reprovado')"
   ]
  },
  {
   "attachments": {
    "image.png": {
     "image/png": "[encoded data removed]"
    }
   },
   "cell_type": "markdown",
   "id": "1441f388",
   "metadata": {},
   "source": [
    "![image.png](attachment:image.png)"
   ]
  },
  {
   "cell_type": "code",
   "execution_count": null,
   "id": "c9e80a12",
   "metadata": {},
   "outputs": [],
   "source": [
    "media = float(input('Digite a média: '))\n",
    "\n",
    "\n",
    "if media >= 7:\n",
    "    print('Aprovado')\n",
    "elif media >= 5:\n",
    "    print('Recuperação')\n",
    "elif media >= 4.5:\n",
    "    print('Quase hein!')\n",
    "else:\n",
    "    print('Reprovado')\n",
    "\n",
    "if media == 10:\n",
    "    print('Parabéns')"
   ]
  },
  {
   "cell_type": "code",
   "execution_count": null,
   "id": "ec2357d4",
   "metadata": {},
   "outputs": [],
   "source": [
    "media = float(input('Digite a média: '))\n",
    "\n",
    "\n",
    "if media >= 7:\n",
    "    print('Aprovado')\n",
    "    if media == 10:\n",
    "        print('Parabéns')\n",
    "elif media >= 5:\n",
    "    print('Recuperação')\n",
    "elif media >= 4.5:\n",
    "    print('Quase hein!')\n",
    "else:\n",
    "    print('Reprovado')\n",
    "\n"
   ]
  },
  {
   "cell_type": "code",
   "execution_count": null,
   "id": "5bdf4fb0",
   "metadata": {},
   "outputs": [],
   "source": [
    "media = float(input('Digite a média: '))\n",
    "\n",
    "if media == 10:\n",
    "    print('Parabéns')\n",
    "elif media >= 7:\n",
    "    print('Aprovado')\n",
    "elif media >= 5:\n",
    "    print('Recuperação')\n",
    "elif media >= 4.5:\n",
    "    print('Quase hein!')\n",
    "else:\n",
    "    print('Reprovado')"
   ]
  },
  {
   "cell_type": "markdown",
   "id": "0471ee21",
   "metadata": {},
   "source": [
    "## Saiba mais \n",
    "**Funções de strings (só uma introdução para facilitar em alguns exercícios)**\n",
    "\n",
    "Temos algumas funções prontas para alterar a capitalização das letras. Uma delas é a função upper, que transforma todas as letras da string original em maiúsculas:"
   ]
  },
  {
   "cell_type": "code",
   "execution_count": null,
   "id": "df5477fa",
   "metadata": {},
   "outputs": [],
   "source": [
    "frase = 'vAmOs PrOgRaMaR'"
   ]
  },
  {
   "cell_type": "code",
   "execution_count": null,
   "id": "e296112e",
   "metadata": {},
   "outputs": [
    {
     "data": {
      "text/plain": [
       "'VAMOS PROGRAMAR'"
      ]
     },
     "execution_count": 16,
     "metadata": {},
     "output_type": "execute_result"
    }
   ],
   "source": [
    "frase.upper()"
   ]
  },
  {
   "cell_type": "code",
   "execution_count": null,
   "id": "862405e2",
   "metadata": {},
   "outputs": [
    {
     "data": {
      "text/plain": [
       "True"
      ]
     },
     "execution_count": 18,
     "metadata": {},
     "output_type": "execute_result"
    }
   ],
   "source": [
    "'True|TRUE'.upper() == 'True|True'.upper()"
   ]
  },
  {
   "cell_type": "markdown",
   "id": "234041d6",
   "metadata": {},
   "source": [
    "Analogamente, temos a função lower para transformar todas as letras em minúsculas:"
   ]
  },
  {
   "cell_type": "code",
   "execution_count": null,
   "id": "f5210e5b",
   "metadata": {},
   "outputs": [
    {
     "data": {
      "text/plain": [
       "'vamos programar'"
      ]
     },
     "execution_count": 19,
     "metadata": {},
     "output_type": "execute_result"
    }
   ],
   "source": [
    "frase.lower()"
   ]
  },
  {
   "cell_type": "markdown",
   "id": "7b3e877e",
   "metadata": {},
   "source": [
    "Também é possível formatar a string inteira como um nome próprio: primeira letra de cada palavra maiúscula, todo o restante em minúscula. Para isso temos a função title:"
   ]
  },
  {
   "cell_type": "code",
   "execution_count": null,
   "id": "cb6e787b",
   "metadata": {},
   "outputs": [],
   "source": [
    "nome = 'roberto pontes'"
   ]
  },
  {
   "cell_type": "code",
   "execution_count": null,
   "id": "4e952cd7",
   "metadata": {},
   "outputs": [
    {
     "data": {
      "text/plain": [
       "'Roberto Pontes'"
      ]
     },
     "execution_count": 21,
     "metadata": {},
     "output_type": "execute_result"
    }
   ],
   "source": [
    "nome.title()"
   ]
  },
  {
   "cell_type": "markdown",
   "id": "8422ef8c",
   "metadata": {},
   "source": [
    "E, por fim, é possível tratar nossa string como uma frase gramaticalmente correta: primeira letra maiúscula, todo o resto minúsculo. Essa função é a capitalize:"
   ]
  },
  {
   "cell_type": "code",
   "execution_count": null,
   "id": "62b6b5d7",
   "metadata": {},
   "outputs": [
    {
     "data": {
      "text/plain": [
       "'Roberto pontes'"
      ]
     },
     "execution_count": 22,
     "metadata": {},
     "output_type": "execute_result"
    }
   ],
   "source": [
    "nome.capitalize()"
   ]
  },
  {
   "cell_type": "markdown",
   "id": "93b4c1f2",
   "metadata": {},
   "source": [
    "Uma utilidade para essas funções é padronizar entrada de usuário. Quando pedimos para o usuário digitar 'sim' caso ele deseje fazer algo, ele pode digitar 'SIM', 'sim', 'Sim', 'sIm', 'siM', 'SIm', 'sIM' ou 'SiM'. Prever todas essas condições em uma condicional pode ser bastante trabalhoso, ou mesmo impossível. Imagine se fosse uma string de várias letras... Porém, podemos forçar um padrão para a entrada do usuário e comparar com esse padrão:"
   ]
  },
  {
   "cell_type": "code",
   "execution_count": null,
   "id": "364da049",
   "metadata": {},
   "outputs": [
    {
     "data": {
      "text/plain": [
       "True"
      ]
     },
     "execution_count": 23,
     "metadata": {},
     "output_type": "execute_result"
    }
   ],
   "source": [
    "'sim'.upper() == 'SIM'"
   ]
  },
  {
   "cell_type": "markdown",
   "id": "b723013f",
   "metadata": {},
   "source": [
    "Qualquer forma que o usuário digite a palavra 'sim' será aceita.\n",
    "\n",
    "Se quiser confirmar se dentro de uma string qo valor é um número, usamos o .isdigit(). Assim como tem o .isalpha()."
   ]
  },
  {
   "cell_type": "code",
   "execution_count": null,
   "id": "28b61ff2",
   "metadata": {},
   "outputs": [
    {
     "data": {
      "text/plain": [
       "False"
      ]
     },
     "execution_count": 24,
     "metadata": {},
     "output_type": "execute_result"
    }
   ],
   "source": [
    "'18 anos'.isdigit()"
   ]
  },
  {
   "cell_type": "code",
   "execution_count": null,
   "id": "aefaa0c0",
   "metadata": {},
   "outputs": [
    {
     "data": {
      "text/plain": [
       "True"
      ]
     },
     "execution_count": 25,
     "metadata": {},
     "output_type": "execute_result"
    }
   ],
   "source": [
    "'18'.isdigit()"
   ]
  },
  {
   "cell_type": "code",
   "execution_count": null,
   "id": "595eec68",
   "metadata": {},
   "outputs": [
    {
     "data": {
      "text/plain": [
       "False"
      ]
     },
     "execution_count": 26,
     "metadata": {},
     "output_type": "execute_result"
    }
   ],
   "source": [
    "'18 anos'.isalpha()"
   ]
  },
  {
   "cell_type": "code",
   "execution_count": null,
   "id": "a5a58f03",
   "metadata": {},
   "outputs": [
    {
     "data": {
      "text/plain": [
       "True"
      ]
     },
     "execution_count": 27,
     "metadata": {},
     "output_type": "execute_result"
    }
   ],
   "source": [
    "'anos'.isalpha()"
   ]
  },
  {
   "cell_type": "markdown",
   "id": "8fc83d82",
   "metadata": {},
   "source": [
    "Extra: O que será que acontece quando usamos o operador + com duas strings?"
   ]
  },
  {
   "cell_type": "code",
   "execution_count": null,
   "id": "c365916f",
   "metadata": {},
   "outputs": [
    {
     "data": {
      "text/plain": [
       "'Roberto Pontes'"
      ]
     },
     "execution_count": 28,
     "metadata": {},
     "output_type": "execute_result"
    }
   ],
   "source": [
    "'Roberto' + ' ' + 'Pontes'"
   ]
  },
  {
   "cell_type": "code",
   "execution_count": null,
   "id": "f92aba47",
   "metadata": {},
   "outputs": [
    {
     "name": "stdout",
     "output_type": "stream",
     "text": [
      "Idade inválida\n",
      "<class 'str'>\n"
     ]
    }
   ],
   "source": [
    "idade = input('Digite sua idade: ')\n",
    "\n",
    "if idade.isdigit():\n",
    "    print('Idade válida')\n",
    "    idade = int(idade)\n",
    "else:\n",
    "    print('Idade inválida')\n",
    "\n",
    "print(type(idade))"
   ]
  },
  {
   "cell_type": "markdown",
   "id": "b90a1e0d",
   "metadata": {},
   "source": [
    "**Bora praticar**"
   ]
  },
  {
   "cell_type": "markdown",
   "id": "5a778a5b",
   "metadata": {},
   "source": [
    "1) Faça um programa que peça a idade do usuário e imprima se ele é maior ou menor de 18 anos."
   ]
  },
  {
   "cell_type": "code",
   "execution_count": 2,
   "id": "c1a7caa1",
   "metadata": {},
   "outputs": [
    {
     "name": "stdout",
     "output_type": "stream",
     "text": [
      "Maior de idade\n"
     ]
    }
   ],
   "source": [
    "idade = int(input('Digite sua idade: '))\n",
    "\n",
    "brasil = 18\n",
    "usa = 21\n",
    "ira = 15\n",
    "\n",
    "if idade >= brasil:\n",
    "    print('Maior de idade')\n",
    "else:\n",
    "    print('Menor de idade')"
   ]
  },
  {
   "cell_type": "markdown",
   "id": "a90c2ae8",
   "metadata": {},
   "source": [
    "2) Faça um programa que peça um número e mostre se ele é positivo ou negativo. Alternativa: acrescentar nulo"
   ]
  },
  {
   "cell_type": "code",
   "execution_count": null,
   "id": "bbc06556",
   "metadata": {},
   "outputs": [
    {
     "name": "stdout",
     "output_type": "stream",
     "text": [
      "Número nulo\n"
     ]
    }
   ],
   "source": [
    "numero = int(input('Digite um número: '))\n",
    "\n",
    "if numero == 0:\n",
    "    print('Número nulo')\n",
    "elif numero > 0:\n",
    "    print('Número positivo')\n",
    "else:\n",
    "    print('Número negativo')"
   ]
  },
  {
   "cell_type": "code",
   "execution_count": null,
   "id": "67568e83",
   "metadata": {},
   "outputs": [],
   "source": [
    "numero = int(input('Digite um número: '))\n",
    "\n",
    "if numero > 0:\n",
    "    print('Número positivo')\n",
    "elif numero < 0:\n",
    "    print('Número negativo')\n",
    "else:\n",
    "    print('Número nulo')"
   ]
  },
  {
   "cell_type": "markdown",
   "id": "a8af79e9",
   "metadata": {},
   "source": [
    "3) Faça um programa que peça dois números e mostre o maior deles."
   ]
  },
  {
   "cell_type": "code",
   "execution_count": null,
   "id": "5326ec81",
   "metadata": {},
   "outputs": [],
   "source": [
    "numero_1 = int(input('Digite o primeiro número: '))\n",
    "numero_2 = int(input('Digite o segundo número: '))\n",
    "\n",
    "if numero_1 > numero_2:\n",
    "    print('O primeiro número é maior', numero_1, sep=': ')\n",
    "elif numero_2 > numero_1:\n",
    "    print('O segundo número é maior', numero_2, sep=': ')\n",
    "else:\n",
    "    print('Os números são iguais')"
   ]
  },
  {
   "cell_type": "markdown",
   "id": "cd3fc636",
   "metadata": {},
   "source": [
    "4) Faça um programa que leia a validade das informações:\n",
    "\n",
    "a. Idade: entre 0 e 150;\n",
    "\n",
    "b. Salário: maior que 0;\n",
    "\n",
    "c. Sexo: M, F ou Outro;\n",
    "\n",
    "O programa deve imprimir uma mensagem de erro para cada informação inválida."
   ]
  },
  {
   "cell_type": "code",
   "execution_count": 39,
   "id": "aabbe5eb",
   "metadata": {},
   "outputs": [],
   "source": [
    "idade = input('Digite sua idade: ')\n",
    "salario = input('Digite seu salário (0000.00): ')\n",
    "sexo = input('Digite seu sexo [M, F ou Outro]: ').upper()\n",
    "\n",
    "if not idade.isdigit() or int(idade) < 0 or int(idade) > 150:\n",
    "    print('Idade inválida')\n",
    "\n",
    "if float(salario) <= 0:\n",
    "    print('Salário inválido')\n",
    "\n",
    "#replace de string que não vimos!\n",
    "if not salario.replace('.', '').isdigit() or float(salario) <= 0:\n",
    "    print('Salário inválido 2')\n",
    "\n",
    "#Opção 1\n",
    "\n",
    "if sexo != \"M\" and sexo != \"F\" and sexo != \"OUTRO\":\n",
    "    print('Sexo inválido 1')\n",
    "\n",
    "#Opção 2\n",
    "if not (sexo=='M' or sexo=='F' or sexo=='OUTRO'):\n",
    "    print('Sexo inválido 2')\n",
    "\n"
   ]
  },
  {
   "cell_type": "markdown",
   "id": "94c64b66",
   "metadata": {},
   "source": [
    "5) Escreva um programa que peça a nota de 3 provas de um aluno e verifique se ele passou ou não de ano.\n",
    "Obs.: O aluno irá passar de ano se sua média for maior que 6.\n",
    "\n",
    "6) Faça um programa que mostre uma questão de múltipla escolha com 5 opções (letras a, b, c, d, e). \n",
    "Sabendo a resposta certa, o programa deve receber a opção do usuário e informar a letra que o usuário marcou e se a resposta está certa ou errada.\n",
    "\n",
    "7)\n",
    "Vamos fazer um programa para verificar quem é o assassino de um crime. Para descobrir o assassino, \n",
    "a polícia faz um pequeno questionário com 5 perguntas \n",
    "onde a resposta só pode ser sim ou não:\n",
    "\n",
    "a. Mora perto da vítima?\n",
    "\n",
    "b. Já trabalhou com a vítima?\n",
    "\n",
    "c. Telefonou para a vítima?\n",
    "\n",
    "d. Esteve no local do crime?\n",
    "\n",
    "e. Devia para a vítima?\n",
    "\n",
    "Cada resposta sim dá um ponto para o suspeito. A polícia considera que os suspeitos com 5 pontos são os assassinos, com 4 a 3 pontos \n",
    "são cúmplices e 2 pontos são apenas suspeitos, necessitando outras investigações. Valores iguais ou abaixo de 1 são liberados.'''\n",
    "\n",
    "8) Um produto vai sofrer aumento de acordo com a Tabela 1 abaixo. Faça um programa que peça para o usuário digitar o valor do produto de acordo \n",
    "com o preço antigo e escreva uma das mensagens da Tabela 2, de acordo com o preço reajustado:\n",
    "\n",
    "Tabela 1\n",
    "\n",
    "| Preço Antigo         | % de aumento |\n",
    "|----------------------|--------------|\n",
    "| Até 50 reais         | 5%           |\n",
    "| Entre 50 e 100 reais | 10%          |\n",
    "| De 100 a 150 reais   | 13%          |\n",
    "| Acima de 150 reais   | 15%          |\n",
    "\n",
    "Tabela 2\n",
    "\n",
    "| Preço Novo            | Mensagem   |\n",
    "|-----------------------|------------|\n",
    "| Até 80 reais          | Barato     |\n",
    "| Entre 80 e 115 reais  | Razoável   |\n",
    "| Entre 115 e 150 reais | Normal     |\n",
    "| Entre 150 e 170 reais | Caro       |\n",
    "| Acima de 170 reais    | Muito Caro |\n",
    "\n",
    "9) Desafio 1 - Faça um programa que leia 3 números e informe o maior deles.\n",
    "\n",
    "# Resolução dos exercícios\n",
    "Lembrando que não há uma única forma de resolver\n",
    "\n",
    "Coloquem as respostas em dontpad.com/turma999 e vou escolher algumas resoluções"
   ]
  },
  {
   "cell_type": "markdown",
   "id": "ecb9c538",
   "metadata": {},
   "source": [
    "1) Faça um programa que peça a idade do usuário e imprima se ele é maior ou menor de 18 anos."
   ]
  },
  {
   "cell_type": "code",
   "execution_count": null,
   "id": "6fa65801",
   "metadata": {},
   "outputs": [],
   "source": []
  },
  {
   "cell_type": "markdown",
   "id": "8854719d",
   "metadata": {},
   "source": [
    "2) Faça um programa que peça um número e mostre se ele é positivo ou negativo. Alternativa: acrescentar zero. Desafio: acrescentar nulo"
   ]
  },
  {
   "cell_type": "code",
   "execution_count": null,
   "id": "975aebb3",
   "metadata": {},
   "outputs": [],
   "source": []
  },
  {
   "cell_type": "markdown",
   "id": "2d29d00a",
   "metadata": {},
   "source": [
    "3) Faça um programa que peça dois números e mostre o maior deles."
   ]
  },
  {
   "cell_type": "code",
   "execution_count": null,
   "id": "86604def",
   "metadata": {},
   "outputs": [],
   "source": []
  },
  {
   "cell_type": "code",
   "execution_count": null,
   "id": "840a76e4",
   "metadata": {},
   "outputs": [],
   "source": []
  },
  {
   "cell_type": "markdown",
   "id": "d1180335",
   "metadata": {},
   "source": [
    "4) Faça um programa que leia a validade das informações:\n",
    "\n",
    "    a. Idade: entre 0 e 150;\n",
    "\n",
    "    b. Salário: maior que 0;\n",
    "\n",
    "    c. Sexo: M, F ou Outro;\n",
    "\n",
    "O programa deve imprimir uma mensagem de erro para cada informação inválida."
   ]
  },
  {
   "cell_type": "code",
   "execution_count": null,
   "id": "0c1cb9fc",
   "metadata": {},
   "outputs": [],
   "source": []
  },
  {
   "cell_type": "markdown",
   "id": "a8a65e5a",
   "metadata": {},
   "source": [
    "5) Escreva um programa que peça a nota de 3 provas de um aluno e verifique se ele passou ou não de ano.\n",
    "Obs.: O aluno irá passar de ano se sua média for maior que 6."
   ]
  },
  {
   "cell_type": "code",
   "execution_count": 4,
   "id": "8275cb75",
   "metadata": {},
   "outputs": [
    {
     "name": "stdout",
     "output_type": "stream",
     "text": [
      "Reprovado\n"
     ]
    }
   ],
   "source": [
    "nota1 = float(input('Digite a primeira nota: '))\n",
    "nota2 = float(input('Digite a segunda nota: '))\n",
    "nota3 = float(input('Digite a terceira nota: '))\n",
    "\n",
    "mediaNota = (nota1 + nota2 + nota3) / 3\n",
    "\n",
    "mediaAprov = 6\n",
    "\n",
    "if mediaNota >= mediaAprov:\n",
    "    print('Aprovado')\n",
    "else:\n",
    "    print('Reprovado')"
   ]
  },
  {
   "cell_type": "markdown",
   "id": "e669f8cc",
   "metadata": {},
   "source": [
    "6) Faça um programa que mostre uma questão de múltipla escolha com 5 opções (letras a, b, c, d, e). \n",
    "Sabendo a resposta certa, o programa deve receber a opção do usuário e informar a letra que o usuário marcou e se a resposta está certa ou errada."
   ]
  },
  {
   "cell_type": "code",
   "execution_count": 17,
   "id": "5b263c63",
   "metadata": {},
   "outputs": [
    {
     "name": "stdout",
     "output_type": "stream",
     "text": [
      "Quanto é 1+1?\n",
      "a) 0\n",
      "b) 1\n",
      "c) 2 \n",
      "d) 3\n",
      "e) 4\n",
      "Alternativa D está Incorreta\n"
     ]
    }
   ],
   "source": [
    "print('Quanto é 1+1?\\na) 0\\nb) 1\\nc) 2 \\nd) 3\\ne) 4')\n",
    "questao = input('Digite a alternativa correta.')\n",
    "questao = questao.lower()\n",
    "correto = 'c'\n",
    "\n",
    "if questao == 'a' or questao == 'b' or questao == 'c' or questao == 'd' or questao == 'e': \n",
    "    if questao == correto:\n",
    "        print(f'Alternativa {questao.upper()} está Correta!')\n",
    "    else:\n",
    "        print(f'Alternativa {questao.upper()} está Incorreta!')\n",
    "else:\n",
    "    print(f'{questao} não é uma alternativa valida.')"
   ]
  },
  {
   "cell_type": "markdown",
   "id": "43e66438",
   "metadata": {},
   "source": [
    "7) Vamos fazer um programa para verificar quem é o assassino de um crime. Para descobrir o assassino, a polícia faz um pequeno questionário com 5 perguntas onde a resposta só pode ser sim ou não:  \n",
    "\n",
    "\n",
    "    a. Mora perto da vítima? \n",
    "\n",
    "    b. Já trabalhou com a vítima? \n",
    "\n",
    "    c. Telefonou para a vítima?\n",
    "\n",
    "    d. Esteve no local do crime?\n",
    "\n",
    "    e. Devia para a vítima?\n",
    "\n",
    "Cada resposta sim dá um ponto para o suspeito. A polícia considera que os suspeitos com 5 pontos são os assassinos, com 4 a 3 pontos \n",
    "são cúmplices e 2 pontos são apenas suspeitos, necessitando outras investigações. Valores iguais ou abaixo de 1 são liberados."
   ]
  },
  {
   "cell_type": "code",
   "execution_count": 30,
   "id": "88fbeb74",
   "metadata": {},
   "outputs": [
    {
     "name": "stdout",
     "output_type": "stream",
     "text": [
      "Resposta não é valida, responda sim ou não.\n",
      "Resposta não é valida, responda sim ou não.\n",
      "Resposta não é valida, responda sim ou não.\n",
      "Resposta não é valida, responda sim ou não.\n",
      "Resposta não é valida, responda sim ou não.\n",
      "Esta liberado!\n"
     ]
    }
   ],
   "source": [
    "pontos = 0\n",
    "\n",
    "a = input('Mora perto da vítima?')\n",
    "if a.lower() != 'sim' and a.lower() != 'não':\n",
    "    print('Resposta não é valida, responda sim ou não.')\n",
    "    a = input('Mora perto da vítima?')\n",
    "if a.lower() == 'sim':\n",
    "    pontos = pontos + 1 \n",
    "\n",
    "b = input('Já trabalhou com a vítima?')\n",
    "if b.lower() != 'sim' and b.lower() != 'não':\n",
    "    print('Resposta não é valida, responda sim ou não.')\n",
    "    b = input('Mora perto da vítima?')\n",
    "if b.lower() == 'sim':\n",
    "    pontos = pontos + 1 \n",
    "\n",
    "c = input('Telefonou para a vítima?')\n",
    "if c.lower() != 'sim' and c.lower() != 'não':\n",
    "    print('Resposta não é valida, responda sim ou não.')\n",
    "    c = input('Mora perto da vítima?')\n",
    "if c.lower() == 'sim':\n",
    "    pontos = pontos + 1 \n",
    "\n",
    "d = input('Esteve no local do crime?')\n",
    "if d.lower() != 'sim' and d.lower() != 'não':\n",
    "    print('Resposta não é valida, responda sim ou não.')\n",
    "    d = input('Mora perto da vítima?')\n",
    "if d.lower() == 'sim':\n",
    "    pontos = pontos + 1 \n",
    "\n",
    "e = input('Devia para a vítima?')\n",
    "if e.lower() != 'sim' and e.lower() != 'não':\n",
    "    print('Resposta não é valida, responda sim ou não.')\n",
    "    e = input('Mora perto da vítima?')\n",
    "if e.lower() == 'sim':\n",
    "    pontos = pontos + 1 \n",
    "\n",
    "\n",
    "\n",
    "if pontos == 5:\n",
    "    print('Você é o assasino!')\n",
    "elif pontos >= 3:\n",
    "    print('Você é cúmplice!')\n",
    "elif pontos == 2:\n",
    "    print('Você é suspeito!')\n",
    "else:\n",
    "    print('Esta liberado!')"
   ]
  },
  {
   "cell_type": "markdown",
   "id": "b73da6e2",
   "metadata": {},
   "source": [
    "8) Um produto vai sofrer aumento de acordo com a Tabela 1 abaixo. Faça um programa que peça para o usuário digitar o valor do produto de acordo \n",
    "com o preço antigo e escreva uma das mensagens da Tabela 2, de acordo com o preço reajustado:\n",
    "\n",
    "Tabela 1\n",
    "\n",
    "| Preço Antigo         | % de aumento |\n",
    "|----------------------|--------------|\n",
    "| Até 50 reais         | 5%           |\n",
    "| Entre 50 e 100 reais | 10%          |\n",
    "| De 100 a 150 reais   | 13%          |\n",
    "| Acima de 150 reais   | 15%          |\n",
    "\n",
    "Tabela 2\n",
    "\n",
    "| Preço Novo            | Mensagem   |\n",
    "|-----------------------|------------|\n",
    "| Até 80 reais          | Barato     |\n",
    "| Entre 80 e 115 reais  | Razoável   |\n",
    "| Entre 115 e 150 reais | Normal     |\n",
    "| Entre 150 e 170 reais | Caro       |\n",
    "| Acima de 170 reais    | Muito Caro |"
   ]
  },
  {
   "cell_type": "code",
   "execution_count": 33,
   "id": "0f942cdf",
   "metadata": {},
   "outputs": [
    {
     "name": "stdout",
     "output_type": "stream",
     "text": [
      "Valor é 230.0\n",
      "Muito Caro\n"
     ]
    }
   ],
   "source": [
    "preco = float(input('Digite o preço do produto: '))\n",
    "\n",
    "precoNovo = 0\n",
    "if preco > 150:\n",
    "    aumento = preco * 0.15\n",
    "    precoNovo = aumento + preco\n",
    "elif preco > 100:\n",
    "    aumento = preco * 0.13\n",
    "    precoNovo = aumento + preco\n",
    "elif preco > 50:\n",
    "    aumento = preco * 0.10\n",
    "    precoNovo = aumento + preco\n",
    "else:\n",
    "    aumento = preco * 0.05\n",
    "    precoNovo = aumento + preco\n",
    "\n",
    "if precoNovo > 170:\n",
    "    print(f'Valor é {precoNovo}\\nMuito Caro')\n",
    "elif precoNovo > 150:\n",
    "    print(f'Valor é {precoNovo}\\nCaro')\n",
    "elif precoNovo > 115:\n",
    "    print(f'Valor é {precoNovo}\\nNormal')\n",
    "elif precoNovo > 80:\n",
    "    print(f'Valor é {precoNovo}\\nRazoável')\n",
    "else:\n",
    "    print(f'Valor é {precoNovo}\\nBarato')"
   ]
  },
  {
   "cell_type": "markdown",
   "id": "f8b8d13e",
   "metadata": {},
   "source": [
    "9) Desafio 1 - Faça um programa que leia 3 números e informe o maior deles."
   ]
  },
  {
   "cell_type": "code",
   "execution_count": null,
   "id": "7cf83082",
   "metadata": {},
   "outputs": [],
   "source": [
    "numero1 = float(input('Digite o primeiro numero: '))\n",
    "numero2 = float(input('Digite o segundo numero: '))\n",
    "numero3 = float(input('Digite o terceiro numero: '))\n",
    "\n",
    "maior = numero1\n",
    "\n",
    "if numero2 > maior:\n",
    "    maior = numero2\n",
    "elif numero3 > maior:\n",
    "    meior = numero3\n",
    "\n",
    "print(f'O maior numero é {maior}')"
   ]
  }
 ],
 "metadata": {
  "kernelspec": {
   "display_name": "Python 3 (ipykernel)",
   "language": "python",
   "name": "python3"
  },
  "language_info": {
   "codemirror_mode": {
    "name": "ipython",
    "version": 3
   },
   "file_extension": ".py",
   "mimetype": "text/x-python",
   "name": "python",
   "nbconvert_exporter": "python",
   "pygments_lexer": "ipython3",
   "version": "3.10.12"
  }
 },
 "nbformat": 4,
 "nbformat_minor": 5
}
