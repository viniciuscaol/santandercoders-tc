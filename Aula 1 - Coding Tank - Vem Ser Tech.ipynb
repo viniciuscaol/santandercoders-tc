{
 "cells": [
  {
   "cell_type": "markdown",
   "id": "423e117e",
   "metadata": {},
   "source": [
    "<div style=\"background-color: lightgreen; padding: 18px;\">\n",
    "    <h1> Coding Tank | Vem Ser Tech \n",
    "</div>"
   ]
  },
  {
   "cell_type": "markdown",
   "id": "2bd0fc7d",
   "metadata": {},
   "source": [
    "<div style=\"background-color: lightblue; padding: 10px;\">\n",
    "    <h2> Tópicos da aula - AULA 1\n",
    "</div>\n",
    "\n",
    "- Variáveis\n",
    "- Tipos básicos\n",
    "- Entradas/Saídas\n",
    "- Operadores aritméticos, atribuição e comparação"
   ]
  },
  {
   "cell_type": "markdown",
   "id": "b8600ec3",
   "metadata": {},
   "source": [
    "# Introdução\n",
    "\n",
    "Vamos explorar como o jupyter notebook funciona, botões, comandos e tipos de célula"
   ]
  },
  {
   "cell_type": "markdown",
   "id": "fa313866",
   "metadata": {},
   "source": [
    "1"
   ]
  },
  {
   "cell_type": "code",
   "execution_count": 16,
   "id": "9463f580",
   "metadata": {},
   "outputs": [
    {
     "data": {
      "text/plain": [
       "2"
      ]
     },
     "execution_count": 16,
     "metadata": {},
     "output_type": "execute_result"
    }
   ],
   "source": [
    "2"
   ]
  },
  {
   "cell_type": "code",
   "execution_count": 17,
   "id": "241b511d",
   "metadata": {},
   "outputs": [
    {
     "data": {
      "text/plain": [
       "3"
      ]
     },
     "execution_count": 17,
     "metadata": {},
     "output_type": "execute_result"
    }
   ],
   "source": [
    "3"
   ]
  },
  {
   "cell_type": "code",
   "execution_count": 18,
   "id": "9326204d",
   "metadata": {},
   "outputs": [
    {
     "data": {
      "text/plain": [
       "7"
      ]
     },
     "execution_count": 18,
     "metadata": {},
     "output_type": "execute_result"
    }
   ],
   "source": [
    "3 + 4"
   ]
  },
  {
   "cell_type": "code",
   "execution_count": 19,
   "id": "213c2d0a",
   "metadata": {},
   "outputs": [
    {
     "data": {
      "text/plain": [
       "2"
      ]
     },
     "execution_count": 19,
     "metadata": {},
     "output_type": "execute_result"
    }
   ],
   "source": [
    "5 - 3"
   ]
  },
  {
   "cell_type": "code",
   "execution_count": 20,
   "id": "fa52c5b3",
   "metadata": {},
   "outputs": [
    {
     "data": {
      "text/plain": [
       "10"
      ]
     },
     "execution_count": 20,
     "metadata": {},
     "output_type": "execute_result"
    }
   ],
   "source": [
    "2 * 5"
   ]
  },
  {
   "cell_type": "code",
   "execution_count": 21,
   "id": "be77b7b6",
   "metadata": {},
   "outputs": [
    {
     "data": {
      "text/plain": [
       "7.5"
      ]
     },
     "execution_count": 21,
     "metadata": {},
     "output_type": "execute_result"
    }
   ],
   "source": [
    "15 / 2"
   ]
  },
  {
   "cell_type": "code",
   "execution_count": 22,
   "id": "ba116bad",
   "metadata": {},
   "outputs": [
    {
     "data": {
      "text/plain": [
       "7"
      ]
     },
     "execution_count": 22,
     "metadata": {},
     "output_type": "execute_result"
    }
   ],
   "source": [
    "15 // 2"
   ]
  },
  {
   "cell_type": "code",
   "execution_count": 23,
   "id": "2e30b6d1",
   "metadata": {},
   "outputs": [
    {
     "data": {
      "text/plain": [
       "1"
      ]
     },
     "execution_count": 23,
     "metadata": {},
     "output_type": "execute_result"
    }
   ],
   "source": [
    "15 % 2"
   ]
  },
  {
   "cell_type": "code",
   "execution_count": 24,
   "id": "4e004797",
   "metadata": {},
   "outputs": [
    {
     "data": {
      "text/plain": [
       "225"
      ]
     },
     "execution_count": 24,
     "metadata": {},
     "output_type": "execute_result"
    }
   ],
   "source": [
    "15 ** 2"
   ]
  },
  {
   "cell_type": "markdown",
   "id": "2f4c88b7",
   "metadata": {},
   "source": [
    "**Operadores Aritméticos**\n",
    "\n",
    "|     Operador    |     Nome                 |     Função                                                                       |\n",
    "|-----------------|--------------------------|----------------------------------------------------------------------------------|\n",
    "|     +           |     Adição               |     Realiza   a soma de ambos operandos.                                         |\n",
    "|     -           |     Subtração            |     Realiza   a subtração de ambos operandos.                                    |\n",
    "|     *           |     Multiplicação        |     Realiza   a multiplicação de ambos operandos.                                |\n",
    "|     /           |     Divisão              |     Realiza   a Divisão de ambos operandos.                                      |\n",
    "|     //          |     Divisão   inteira    |     Realiza   a divisão entre operandos e a parte decimal de ambos operandos.    |\n",
    "|     %           |     Módulo               |     Retorna   o resto da divisão de ambos operandos.                             |\n",
    "|     **          |     Exponenciação        |     Retorna   o resultado da elevação da potência pelo outro.                    |"
   ]
  },
  {
   "cell_type": "markdown",
   "id": "5393993e",
   "metadata": {},
   "source": [
    "Mas como podemos armazenar esses valores?"
   ]
  },
  {
   "cell_type": "markdown",
   "id": "c3208653",
   "metadata": {},
   "source": [
    "# Variáveis\n",
    "\n",
    "Variável é o nome dado ao tipo de conteúdo que pode apresentar diferentes valores enquanto o sistema está em execução. Tudo dependerá do comando do usuário e o tipo de operação que é realizado.\n",
    "\n",
    "Imagine que você conhece uma nova pessoa. A variável seria o lugar no seu cérebro no qual você guarda, por exemplo, o nome desta pessoa, ou seja, é alocado um espaço para armazenar esta informação e posteriormente é passado o valor referente aquele dado.\n",
    "\n",
    "`nome = \"Renata\"`\n",
    "\n",
    "## Tipos básicos\n",
    "\n",
    "Podemos ter informações relacionadas às outras pessoas como nome, idade e salário. Cada uma delas possui o que chamamos de tipos de variável. Os tipos de dados são os seguintes:"
   ]
  },
  {
   "cell_type": "code",
   "execution_count": 26,
   "id": "dab98564",
   "metadata": {},
   "outputs": [
    {
     "data": {
      "text/plain": [
       "str"
      ]
     },
     "execution_count": 26,
     "metadata": {},
     "output_type": "execute_result"
    }
   ],
   "source": [
    "# Esta é uma forma de comentar o código. Toda esta informação não será processada\n",
    "# Podemos passar variáveis de texto (str) com aspas duplas\n",
    "nome = \"Renata\"\n",
    "type(nome)"
   ]
  },
  {
   "cell_type": "code",
   "execution_count": 27,
   "id": "63bfa46a",
   "metadata": {},
   "outputs": [
    {
     "data": {
      "text/plain": [
       "str"
      ]
     },
     "execution_count": 27,
     "metadata": {},
     "output_type": "execute_result"
    }
   ],
   "source": [
    "# Aspas simplas - Comentando uma linha de código\n",
    "nome = 'Renata'\n",
    "type(nome)"
   ]
  },
  {
   "cell_type": "code",
   "execution_count": 28,
   "id": "0ce06f61",
   "metadata": {},
   "outputs": [
    {
     "data": {
      "text/plain": [
       "str"
      ]
     },
     "execution_count": 28,
     "metadata": {},
     "output_type": "execute_result"
    }
   ],
   "source": [
    "outro_nome = \"Ada\"\n",
    "type(nome)"
   ]
  },
  {
   "cell_type": "code",
   "execution_count": 29,
   "id": "04ad08d4",
   "metadata": {},
   "outputs": [
    {
     "data": {
      "text/plain": [
       "int"
      ]
     },
     "execution_count": 29,
     "metadata": {},
     "output_type": "execute_result"
    }
   ],
   "source": [
    "idade = 21\n",
    "type(idade)"
   ]
  },
  {
   "cell_type": "code",
   "execution_count": 30,
   "id": "9309e7f3",
   "metadata": {},
   "outputs": [
    {
     "data": {
      "text/plain": [
       "float"
      ]
     },
     "execution_count": 30,
     "metadata": {},
     "output_type": "execute_result"
    }
   ],
   "source": [
    "idade = 21.\n",
    "type(idade)"
   ]
  },
  {
   "cell_type": "code",
   "execution_count": 31,
   "id": "b45f1b53",
   "metadata": {},
   "outputs": [
    {
     "data": {
      "text/plain": [
       "str"
      ]
     },
     "execution_count": 31,
     "metadata": {},
     "output_type": "execute_result"
    }
   ],
   "source": [
    "idade = \"21\"\n",
    "type(idade)"
   ]
  },
  {
   "cell_type": "code",
   "execution_count": 32,
   "id": "15812d79",
   "metadata": {},
   "outputs": [
    {
     "data": {
      "text/plain": [
       "bool"
      ]
     },
     "execution_count": 32,
     "metadata": {},
     "output_type": "execute_result"
    }
   ],
   "source": [
    "certificado = True # True é diferente de true, que é diferente TRUE\n",
    "type(certificado)"
   ]
  },
  {
   "cell_type": "code",
   "execution_count": 33,
   "id": "6639df36",
   "metadata": {},
   "outputs": [
    {
     "data": {
      "text/plain": [
       "bool"
      ]
     },
     "execution_count": 33,
     "metadata": {},
     "output_type": "execute_result"
    }
   ],
   "source": [
    "var = False # Cuidado com o F maiúsculo ---> False é diferente de false\n",
    "type(var)"
   ]
  },
  {
   "cell_type": "code",
   "execution_count": 34,
   "id": "932ee297",
   "metadata": {},
   "outputs": [
    {
     "ename": "NameError",
     "evalue": "name 'false' is not defined",
     "output_type": "error",
     "traceback": [
      "\u001b[1;31m---------------------------------------------------------------------------\u001b[0m",
      "\u001b[1;31mNameError\u001b[0m                                 Traceback (most recent call last)",
      "Cell \u001b[1;32mIn[34], line 1\u001b[0m\n\u001b[1;32m----> 1\u001b[0m var \u001b[38;5;241m=\u001b[39m \u001b[43mfalse\u001b[49m \u001b[38;5;66;03m# false é variável e não booleana ---> Case Sensitive\u001b[39;00m\n",
      "\u001b[1;31mNameError\u001b[0m: name 'false' is not defined"
     ]
    }
   ],
   "source": [
    "var = false # false é variável e não booleana ---> Case Sensitive"
   ]
  },
  {
   "cell_type": "markdown",
   "id": "945f06b6",
   "metadata": {},
   "source": [
    "Idade é diferente de idade"
   ]
  },
  {
   "cell_type": "markdown",
   "id": "ae10d9dc",
   "metadata": {},
   "source": [
    "# Entradas\n",
    "\n",
    "Para solicitarmos entradas de informações a serem fornecidas pelo usuário podemos utilizar a função input. Com ela você poderá (opcional) passar uma mensagem instrutiva ao usuário do que deseja que ele insira.  \n",
    "No exemplo abaixo utilizaremos o input."
   ]
  },
  {
   "cell_type": "code",
   "execution_count": 35,
   "id": "f62524ea",
   "metadata": {},
   "outputs": [
    {
     "data": {
      "text/plain": [
       "'Roberto'"
      ]
     },
     "execution_count": 35,
     "metadata": {},
     "output_type": "execute_result"
    }
   ],
   "source": [
    "input()"
   ]
  },
  {
   "cell_type": "markdown",
   "id": "a9be572a",
   "metadata": {},
   "source": [
    "**Intuição**  \n",
    "Veja que ele funciona, porém sem uma mensagem de qual informação é solicitada não é possível identificar o que se deve passar ao programa."
   ]
  },
  {
   "cell_type": "code",
   "execution_count": 36,
   "id": "f974c3df",
   "metadata": {},
   "outputs": [
    {
     "data": {
      "text/plain": [
       "'18'"
      ]
     },
     "execution_count": 36,
     "metadata": {},
     "output_type": "execute_result"
    }
   ],
   "source": [
    "input('Insira sua idade: ')"
   ]
  },
  {
   "cell_type": "markdown",
   "id": "8dec4efe",
   "metadata": {},
   "source": [
    "**Variável**  \n",
    "Podemos guardar o valor passado pelo usuário numa variável"
   ]
  },
  {
   "cell_type": "code",
   "execution_count": 43,
   "id": "5b1a0065",
   "metadata": {},
   "outputs": [],
   "source": [
    "idade = input('Insira sua idade: ')"
   ]
  },
  {
   "cell_type": "code",
   "execution_count": 38,
   "id": "75ab42f1",
   "metadata": {},
   "outputs": [
    {
     "data": {
      "text/plain": [
       "'18'"
      ]
     },
     "execution_count": 38,
     "metadata": {},
     "output_type": "execute_result"
    }
   ],
   "source": [
    "idade"
   ]
  },
  {
   "cell_type": "markdown",
   "id": "1e00f439",
   "metadata": {},
   "source": [
    "Repare nas aspas que saem quando utilizamos apenas a função input. Isso quer dizer que este valor capturado pelo programa é uma string, independente do que o usuário insira."
   ]
  },
  {
   "cell_type": "code",
   "execution_count": 39,
   "id": "7f15c937",
   "metadata": {},
   "outputs": [
    {
     "data": {
      "text/plain": [
       "str"
      ]
     },
     "execution_count": 39,
     "metadata": {},
     "output_type": "execute_result"
    }
   ],
   "source": [
    "type(idade)"
   ]
  },
  {
   "cell_type": "markdown",
   "id": "a0007819",
   "metadata": {},
   "source": [
    "**Convertendo o tipo de dado**\n",
    "\n",
    "Neste caso é interessante que a idade seja um número, visto que em geral o utilizamos para realizar contas, por exemplo. Para converter este valor para um inteiro, podemos fazer da seguinte forma:"
   ]
  },
  {
   "cell_type": "code",
   "execution_count": 44,
   "id": "3abfbb24",
   "metadata": {},
   "outputs": [
    {
     "data": {
      "text/plain": [
       "18"
      ]
     },
     "execution_count": 44,
     "metadata": {},
     "output_type": "execute_result"
    }
   ],
   "source": [
    "int(idade)"
   ]
  },
  {
   "cell_type": "code",
   "execution_count": 45,
   "id": "b2d05721",
   "metadata": {},
   "outputs": [
    {
     "data": {
      "text/plain": [
       "18.0"
      ]
     },
     "execution_count": 45,
     "metadata": {},
     "output_type": "execute_result"
    }
   ],
   "source": [
    "float(idade)"
   ]
  },
  {
   "cell_type": "code",
   "execution_count": 47,
   "id": "1be721a9",
   "metadata": {},
   "outputs": [
    {
     "data": {
      "text/plain": [
       "'18'"
      ]
     },
     "execution_count": 47,
     "metadata": {},
     "output_type": "execute_result"
    }
   ],
   "source": [
    "idade"
   ]
  },
  {
   "cell_type": "code",
   "execution_count": 46,
   "id": "cdd2d645",
   "metadata": {},
   "outputs": [
    {
     "data": {
      "text/plain": [
       "'18.0'"
      ]
     },
     "execution_count": 46,
     "metadata": {},
     "output_type": "execute_result"
    }
   ],
   "source": [
    "str(float(idade)) # idade é originalmente string, transformei para float e depois para string novamente"
   ]
  },
  {
   "cell_type": "code",
   "execution_count": 48,
   "id": "e717563c",
   "metadata": {},
   "outputs": [
    {
     "data": {
      "text/plain": [
       "18"
      ]
     },
     "execution_count": 48,
     "metadata": {},
     "output_type": "execute_result"
    }
   ],
   "source": [
    "int(float(idade))"
   ]
  },
  {
   "cell_type": "code",
   "execution_count": 49,
   "id": "3caa3d85",
   "metadata": {},
   "outputs": [
    {
     "ename": "ValueError",
     "evalue": "could not convert string to float: 'Renata'",
     "output_type": "error",
     "traceback": [
      "\u001b[1;31m---------------------------------------------------------------------------\u001b[0m",
      "\u001b[1;31mValueError\u001b[0m                                Traceback (most recent call last)",
      "Cell \u001b[1;32mIn[49], line 1\u001b[0m\n\u001b[1;32m----> 1\u001b[0m \u001b[38;5;28;43mfloat\u001b[39;49m\u001b[43m(\u001b[49m\u001b[38;5;124;43m'\u001b[39;49m\u001b[38;5;124;43mRenata\u001b[39;49m\u001b[38;5;124;43m'\u001b[39;49m\u001b[43m)\u001b[49m \u001b[38;5;66;03m# não consigo transformar esse texto em casas decimais (valores flutuantes)\u001b[39;00m\n",
      "\u001b[1;31mValueError\u001b[0m: could not convert string to float: 'Renata'"
     ]
    }
   ],
   "source": [
    "float('Renata') # não consigo transformar esse texto em casas decimais (valores flutuantes)"
   ]
  },
  {
   "cell_type": "code",
   "execution_count": 50,
   "id": "82f17db5",
   "metadata": {},
   "outputs": [
    {
     "data": {
      "text/plain": [
       "123"
      ]
     },
     "execution_count": 50,
     "metadata": {},
     "output_type": "execute_result"
    }
   ],
   "source": [
    "int('00123')"
   ]
  },
  {
   "cell_type": "markdown",
   "id": "295fd764",
   "metadata": {},
   "source": [
    "E para simplificar ainda mais é comum que já realizemos a conversão da variável logo na chamada do input."
   ]
  },
  {
   "cell_type": "code",
   "execution_count": 51,
   "id": "a71c320f",
   "metadata": {},
   "outputs": [],
   "source": [
    "idade = int(input('Insira sua idade: '))"
   ]
  },
  {
   "cell_type": "code",
   "execution_count": 52,
   "id": "73266b5a",
   "metadata": {},
   "outputs": [
    {
     "data": {
      "text/plain": [
       "int"
      ]
     },
     "execution_count": 52,
     "metadata": {},
     "output_type": "execute_result"
    }
   ],
   "source": [
    "type(idade)"
   ]
  },
  {
   "cell_type": "markdown",
   "id": "fa2168c4",
   "metadata": {},
   "source": [
    "## Saídas\n",
    "\n",
    "Em diversas situações desejamos imprimir na tela o resultado de alguma operação que realizamos ou simplesmente emitirmos uma mensagem, para estas situações utilizamos o `print`."
   ]
  },
  {
   "cell_type": "code",
   "execution_count": null,
   "id": "8ae62362",
   "metadata": {},
   "outputs": [],
   "source": [
    "print()"
   ]
  },
  {
   "cell_type": "code",
   "execution_count": 53,
   "id": "712911a2",
   "metadata": {},
   "outputs": [
    {
     "name": "stdout",
     "output_type": "stream",
     "text": [
      "Você pode utilizar o print para imprimir na tela o que você quiser\n"
     ]
    }
   ],
   "source": [
    "print('Você pode utilizar o print para imprimir na tela o que você quiser')"
   ]
  },
  {
   "cell_type": "code",
   "execution_count": 54,
   "id": "cebac0fa",
   "metadata": {},
   "outputs": [
    {
     "name": "stdout",
     "output_type": "stream",
     "text": [
      "As aspas duplas também funcionam\n"
     ]
    }
   ],
   "source": [
    "print(\"As aspas duplas também funcionam\") # comentário no código, ou seja, ele não executa o que está na frente do #"
   ]
  },
  {
   "cell_type": "code",
   "execution_count": null,
   "id": "b532987d",
   "metadata": {},
   "outputs": [],
   "source": [
    "print(\"Teste\") # Usamos o # para comentar uma linha de código. Para comentar mais linhas \"\"\"3x aspas \"\"\""
   ]
  },
  {
   "cell_type": "code",
   "execution_count": 55,
   "id": "18506214",
   "metadata": {},
   "outputs": [
    {
     "name": "stdout",
     "output_type": "stream",
     "text": [
      "Podemos pular linha \n",
      "com este símbolo\n"
     ]
    }
   ],
   "source": [
    "print('Podemos pular linha \\ncom este símbolo') # \\n"
   ]
  },
  {
   "cell_type": "code",
   "execution_count": 56,
   "id": "495c3b18",
   "metadata": {},
   "outputs": [
    {
     "name": "stdout",
     "output_type": "stream",
     "text": [
      "\tÉ possível utilizar a tabulação\n"
     ]
    }
   ],
   "source": [
    "print(\"\\tÉ possível utilizar a tabulação\") # \\t"
   ]
  },
  {
   "cell_type": "code",
   "execution_count": 57,
   "id": "1e37b974",
   "metadata": {},
   "outputs": [
    {
     "name": "stdout",
     "output_type": "stream",
     "text": [
      "Também podemos\n",
      "usar o print\n",
      "várias vezes na mesma célula\n"
     ]
    }
   ],
   "source": [
    "print('Também podemos')\n",
    "print(\"usar o print\")\n",
    "print(\"várias vezes na mesma célula\")"
   ]
  },
  {
   "cell_type": "code",
   "execution_count": null,
   "id": "72fe1a3d",
   "metadata": {},
   "outputs": [],
   "source": [
    "# observação\n",
    "\"Texto\" # No Jupyter notebook a última linha da célula funciona parecido com o print"
   ]
  },
  {
   "cell_type": "markdown",
   "id": "c575d984",
   "metadata": {},
   "source": [
    "**Mais de um argumento**  \n",
    "Para imprimir mais de uma informação, o print permite inserir quantos argumentos forem necessários, desde que separados por vírgula. Veja o exemplo:"
   ]
  },
  {
   "cell_type": "code",
   "execution_count": 58,
   "id": "2dfe08f0",
   "metadata": {},
   "outputs": [
    {
     "name": "stdout",
     "output_type": "stream",
     "text": [
      "Olá eu sou Renata muito prazer\n"
     ]
    }
   ],
   "source": [
    "print('Olá', 'eu sou Renata', \"muito prazer\")"
   ]
  },
  {
   "cell_type": "code",
   "execution_count": 60,
   "id": "35a00147",
   "metadata": {},
   "outputs": [
    {
     "name": "stdout",
     "output_type": "stream",
     "text": [
      "Olá eu sou Renata muito prazer."
     ]
    }
   ],
   "source": [
    "print('Olá', 'eu sou Renata', \"muito prazer\", end='.')"
   ]
  },
  {
   "cell_type": "code",
   "execution_count": 61,
   "id": "a821e051",
   "metadata": {},
   "outputs": [
    {
     "name": "stdout",
     "output_type": "stream",
     "text": [
      "Olá;eu sou Renata;muito prazer."
     ]
    }
   ],
   "source": [
    "print('Olá', 'eu sou Renata', \"muito prazer\", sep=';', end='.')"
   ]
  },
  {
   "cell_type": "code",
   "execution_count": 64,
   "id": "3a887a4b",
   "metadata": {},
   "outputs": [
    {
     "name": "stdout",
     "output_type": "stream",
     "text": [
      "Olá\n",
      "eu sou Renata\n",
      "muito prazer.Olá mundo\n"
     ]
    }
   ],
   "source": [
    "print('Olá', 'eu sou Renata', \"muito prazer\", sep='\\n', end='.')\n",
    "print('Olá mundo')"
   ]
  },
  {
   "cell_type": "code",
   "execution_count": 65,
   "id": "bce6a664",
   "metadata": {},
   "outputs": [
    {
     "name": "stdout",
     "output_type": "stream",
     "text": [
      "Olá\n",
      "eu sou Renata\n",
      "muito prazer.\n",
      "Olá mundo\n"
     ]
    }
   ],
   "source": [
    "print('Olá', 'eu sou Renata', \"muito prazer\", sep='\\n', end='.\\n')\n",
    "print('Olá mundo')"
   ]
  },
  {
   "cell_type": "code",
   "execution_count": 66,
   "id": "a28e8533",
   "metadata": {},
   "outputs": [
    {
     "name": "stdout",
     "output_type": "stream",
     "text": [
      "Também podemos usar o argumento end (que será útil em condicionais)."
     ]
    }
   ],
   "source": [
    "print(\"Também podemos usar o argumento end (que será útil em condicionais)\", end=\".\")"
   ]
  },
  {
   "cell_type": "markdown",
   "id": "944f604d",
   "metadata": {},
   "source": [
    "**Print de variáveis**  \n",
    "Também é possível imprimir variáveis de forma simples, basta passar o nome dado para a variável dentro dos parênteses."
   ]
  },
  {
   "cell_type": "code",
   "execution_count": 67,
   "id": "2b510478",
   "metadata": {},
   "outputs": [
    {
     "name": "stdout",
     "output_type": "stream",
     "text": [
      "18\n"
     ]
    }
   ],
   "source": [
    "print(idade)"
   ]
  },
  {
   "cell_type": "markdown",
   "id": "ba3cfb0e",
   "metadata": {},
   "source": [
    "E se for necessário imprimir a mensagem \"Olá, eu sou Renata Marchese\", de forma que o nome e o sobrenome sejam provenientes de variáveis nome e sobrenome"
   ]
  },
  {
   "cell_type": "code",
   "execution_count": 69,
   "id": "7b142c5e",
   "metadata": {},
   "outputs": [],
   "source": [
    "nome = 'Renata'\n",
    "sobrenome = \"Marchese\"\n",
    "idade = 21"
   ]
  },
  {
   "cell_type": "code",
   "execution_count": 70,
   "id": "f814dd24",
   "metadata": {},
   "outputs": [
    {
     "name": "stdout",
     "output_type": "stream",
     "text": [
      "Olá, eu sou Renata Marchese e tenho 21 anos\n"
     ]
    }
   ],
   "source": [
    "print(\"Olá, eu sou\", nome, sobrenome, \"e tenho\", idade, \"anos\") #usando argumentos"
   ]
  },
  {
   "cell_type": "code",
   "execution_count": 71,
   "id": "09ada37a",
   "metadata": {},
   "outputs": [
    {
     "name": "stdout",
     "output_type": "stream",
     "text": [
      "Olá, eu sou Renata Marchese e tenho 21 anos\n"
     ]
    }
   ],
   "source": [
    "print(\"Olá, eu sou {} {} e tenho {} anos\".format(nome, sobrenome, idade)) #outra forma de usar"
   ]
  },
  {
   "cell_type": "markdown",
   "id": "08b9c448",
   "metadata": {},
   "source": [
    "**Print com f string**  \n",
    "Outra forma de utilizarmos o print com variáveis é por meio do que chamamos de f string."
   ]
  },
  {
   "cell_type": "code",
   "execution_count": 72,
   "id": "37382cff",
   "metadata": {},
   "outputs": [
    {
     "name": "stdout",
     "output_type": "stream",
     "text": [
      "Olá, eu sou Renata Marchese e tenho 21 anos\n"
     ]
    }
   ],
   "source": [
    "print(f\"Olá, eu sou {nome} {sobrenome} e tenho {idade} anos\") # f string"
   ]
  },
  {
   "cell_type": "markdown",
   "id": "99da0d47",
   "metadata": {},
   "source": [
    "**Bora praticar!**  \n",
    "Escreva um programa que receba seu nome, sua idade, hobby e escreva uma única sentença que seja, por exemplo, \"Meu nome é Renata, tenho 22 anos e meu hobby é viajar\" "
   ]
  },
  {
   "cell_type": "code",
   "execution_count": 73,
   "id": "97e77b8e",
   "metadata": {},
   "outputs": [
    {
     "name": "stdout",
     "output_type": "stream",
     "text": [
      "Meu nome é Roberto, tenho 18 anos e meu hobby é ler.\n"
     ]
    }
   ],
   "source": [
    "nome = input(\"Insira o seu nome: \")\n",
    "idade = int(input(\"Insira a sua idade: \"))\n",
    "hobby = input(\"Insira o seu hobby: \")\n",
    "print(f\"Meu nome é {nome}, tenho {idade} anos e meu hobby é {hobby}.\")"
   ]
  },
  {
   "cell_type": "code",
   "execution_count": 82,
   "id": "62bf793b",
   "metadata": {},
   "outputs": [
    {
     "name": "stdout",
     "output_type": "stream",
     "text": [
      "Meu nome é Roberto, tenho 18 anos e meu hobby é Ler\n"
     ]
    }
   ],
   "source": [
    "nome = input('Qual o seu nome?')\n",
    "idade = input('Qual sua idade?')\n",
    "hobby = input('Você tem algum hobby?')\n",
    "\n",
    "print(f\"Meu nome é {nome}, tenho {idade} anos e meu hobby é {hobby}\")"
   ]
  },
  {
   "cell_type": "markdown",
   "id": "5ffd55f4",
   "metadata": {},
   "source": [
    "# Operadores Algébricos e de Atribuição\n",
    "Rotineiramente nos deparamos com a necessidade de realizarmos cálculos, para isso utilizamos os operadores algébricos como conhecemos na matemática tradicional. Mas como usar com variáveis?"
   ]
  },
  {
   "cell_type": "code",
   "execution_count": 74,
   "id": "66ec66c5",
   "metadata": {},
   "outputs": [
    {
     "name": "stdout",
     "output_type": "stream",
     "text": [
      "25\n"
     ]
    }
   ],
   "source": [
    "valor_01 = 10\n",
    "valor_02 = 15\n",
    "print(valor_01 + valor_02)"
   ]
  },
  {
   "cell_type": "code",
   "execution_count": 75,
   "id": "2de8314e",
   "metadata": {},
   "outputs": [
    {
     "name": "stdout",
     "output_type": "stream",
     "text": [
      "valor de x = 5\n",
      "valor de y = 2\n",
      "valor de z = 7\n",
      "valor de x = 6\n"
     ]
    }
   ],
   "source": [
    "x = 5\n",
    "y = 2\n",
    "\n",
    "z = x + y\n",
    "\n",
    "print(\"valor de x =\", x)\n",
    "print(\"valor de y =\", y)\n",
    "print(\"valor de z =\", z)\n",
    " \n",
    "x = x + 1 \n",
    " \n",
    "print(\"valor de x =\", x)"
   ]
  },
  {
   "cell_type": "markdown",
   "id": "1c7dee09",
   "metadata": {},
   "source": [
    "**Operadores de atribuição**\n",
    "\n",
    "|     Operador    |     Equivalente a    |\n",
    "|:---------------:|----------------------|\n",
    "|         =       |     x =   1          |\n",
    "|        +=       |     x =   x + 1      |\n",
    "|        -=       |     x =   x - 1      |\n",
    "|        *=       |     x =   x * 1      |\n",
    "|        /=       |     x =   x / 1      |\n",
    "|        %=       |     x =   x % 1      |"
   ]
  },
  {
   "cell_type": "markdown",
   "id": "e6332069",
   "metadata": {},
   "source": [
    "**Bora praticar!**  \n",
    "Com tudo que vimos até o momento faça um programa que solicite ao usuário que insira seu ano de nascimento. Desconsiderando o mês do ano de nascimento, emita uma mensagem dizendo quantos anos ele possui."
   ]
  },
  {
   "cell_type": "code",
   "execution_count": 83,
   "id": "0da18079",
   "metadata": {},
   "outputs": [
    {
     "name": "stdout",
     "output_type": "stream",
     "text": [
      "Você possui 18 anos."
     ]
    }
   ],
   "source": [
    "nascimento = int(input('Qual o ano que você nasceu: '))\n",
    "idade = 2024 - nascimento \n",
    "print(f'Sua idade é {idade}')"
   ]
  },
  {
   "cell_type": "markdown",
   "id": "423e0da3",
   "metadata": {},
   "source": [
    "## Operadores de Comparação  \n",
    "Os operadores de comparação são aqueles que possuem o objetivo de analisar os valores de uma expressão e retornar um valor booleano, ou seja, verdadeiro (1) ou falso (0).\n",
    "\n",
    "**Operadores de comparação**\n",
    "\n",
    "|     Operador    |           Nome          |     Função                                              |\n",
    "|:---------------:|:-----------------------:|---------------------------------------------------------|\n",
    "|        ==       |         Igual   a       |     Verifica   se um valor é igual ao outro             |\n",
    "|        !=       |      Diferente   de     |     Verifica   se um valor é diferente ao outro         |\n",
    "|         >       |        Maior   que      |     Verifica   se um valor é maior que outro            |\n",
    "|        >=       |     Maior   ou igual    |     Verifica   se um valor é maior ou igual ao outro    |\n",
    "|         <       |        Menor   que      |     Verifica   se um valor é menor que outro            |\n",
    "|        <=       |     Menor   ou igual    |     Verifica   se um valor é menor ou igual ao outro    |"
   ]
  },
  {
   "cell_type": "code",
   "execution_count": 76,
   "id": "c04d8858",
   "metadata": {},
   "outputs": [
    {
     "name": "stdout",
     "output_type": "stream",
     "text": [
      "True\n"
     ]
    }
   ],
   "source": [
    "print( 3 > 2 )"
   ]
  },
  {
   "cell_type": "code",
   "execution_count": 77,
   "id": "da130611",
   "metadata": {},
   "outputs": [
    {
     "name": "stdout",
     "output_type": "stream",
     "text": [
      "False\n"
     ]
    }
   ],
   "source": [
    "print( 3 < 2 )"
   ]
  },
  {
   "cell_type": "code",
   "execution_count": 78,
   "id": "6b195a66",
   "metadata": {},
   "outputs": [
    {
     "name": "stdout",
     "output_type": "stream",
     "text": [
      "False\n"
     ]
    }
   ],
   "source": [
    "print( 3 == 2 ) # Cuidado, = é atribuição e não comparação"
   ]
  },
  {
   "cell_type": "code",
   "execution_count": 79,
   "id": "941af887",
   "metadata": {},
   "outputs": [
    {
     "name": "stdout",
     "output_type": "stream",
     "text": [
      "True\n"
     ]
    }
   ],
   "source": [
    "print( 3 != 2 ) # diferente"
   ]
  },
  {
   "cell_type": "code",
   "execution_count": 80,
   "id": "087160a3",
   "metadata": {},
   "outputs": [
    {
     "ename": "SyntaxError",
     "evalue": "expression cannot contain assignment, perhaps you meant \"==\"? (171474158.py, line 1)",
     "output_type": "error",
     "traceback": [
      "\u001b[1;36m  Cell \u001b[1;32mIn[80], line 1\u001b[1;36m\u001b[0m\n\u001b[1;33m    print( 3 =! 2 ) # Não existe =! e sim !=\u001b[0m\n\u001b[1;37m           ^\u001b[0m\n\u001b[1;31mSyntaxError\u001b[0m\u001b[1;31m:\u001b[0m expression cannot contain assignment, perhaps you meant \"==\"?\n"
     ]
    }
   ],
   "source": [
    "print( 3 =! 2 ) # Não existe =! e sim !="
   ]
  },
  {
   "cell_type": "markdown",
   "id": "c7e1072f",
   "metadata": {},
   "source": [
    "**Bora praticar!**  \n",
    "Imagine que você está implementando um sistema para verificar se os alunos de uma turma estudantil passaram na disciplina ou não. Para isso solicite que o usuário insira as notas das 4 provas realizadas por um estudante e calcule a média. Após isso, emita uma resposta booleana (True ou False) se o estudante passou na disciplina pensando que a média mínima para aprovação é que seja pelo menos 5."
   ]
  },
  {
   "cell_type": "code",
   "execution_count": null,
   "id": "970f58f3",
   "metadata": {},
   "outputs": [],
   "source": [
    "nota1 = float(input('Coloque a primeira nota'))\n",
    "nota2 = float(input('Coloque a segunda nota'))\n",
    "nota3 = float(input('Coloque a terceira nota'))\n",
    "nota4 = float(input('Coloque a quarta nota'))\n",
    "media = (nota1 + nota2 + nota3 + nota4) / 4\n",
    "print (f'Sua media é {media} e você esta', media >= 5)"
   ]
  },
  {
   "cell_type": "markdown",
   "id": "57b1c875",
   "metadata": {},
   "source": [
    "Crie um algoritmo que calcule o IMC (índice de massa corporal). O IMC é calculado com a formula PESO/(ALTURA ^ 2). Para isso, coloque as informações nas variáveis e ao final apresente o resultado como no exemplo: \"O IMC é 18\""
   ]
  },
  {
   "cell_type": "code",
   "execution_count": 1,
   "id": "5f01e70b",
   "metadata": {},
   "outputs": [
    {
     "name": "stdout",
     "output_type": "stream",
     "text": [
      "O IMC é 37\n"
     ]
    }
   ],
   "source": [
    "peso = float(input('Digite seu peso em Kg: '))\n",
    "altura = float(input('Digite sua altura em Metros: '))\n",
    "imc = peso/(altura*altura)\n",
    "print(f'O IMC é {int(imc)}')\n"
   ]
  },
  {
   "cell_type": "markdown",
   "id": "7e0e1ca3",
   "metadata": {},
   "source": [
    "Escreva um algoritmo que calcule (x + y) * (x + y). Os valores de x e y devem ser inseridos pelo usuário"
   ]
  },
  {
   "cell_type": "code",
   "execution_count": 1,
   "id": "8b5c7977",
   "metadata": {},
   "outputs": [
    {
     "name": "stdout",
     "output_type": "stream",
     "text": [
      "O valor do calculo solicitado é = 16.0\n"
     ]
    }
   ],
   "source": [
    "x = float(input('Digite o valor de X: '))\n",
    "y = float(input('Digite o valor de Y: '))\n",
    "calculo = (x + y) * (x + y)\n",
    "print(f'O valor do calculo solicitado é = {calculo}')\n"
   ]
  }
 ],
 "metadata": {
  "kernelspec": {
   "display_name": "Python 3 (ipykernel)",
   "language": "python",
   "name": "python3"
  },
  "language_info": {
   "codemirror_mode": {
    "name": "ipython",
    "version": 3
   },
   "file_extension": ".py",
   "mimetype": "text/x-python",
   "name": "python",
   "nbconvert_exporter": "python",
   "pygments_lexer": "ipython3",
   "version": "3.10.12"
  }
 },
 "nbformat": 4,
 "nbformat_minor": 5
}
